{
 "cells": [
  {
   "cell_type": "markdown",
   "metadata": {
    "id": "cd0y12-NDstA"
   },
   "source": [
    "# 1. Data preprocess & expolore"
   ]
  },
  {
   "cell_type": "markdown",
   "metadata": {
    "id": "OxAb2yAwD5bX"
   },
   "source": [
    "## 1.1 Make dataframe with raw data"
   ]
  },
  {
   "cell_type": "code",
   "execution_count": 1,
   "metadata": {
    "colab": {
     "base_uri": "https://localhost:8080/"
    },
    "executionInfo": {
     "elapsed": 20355,
     "status": "ok",
     "timestamp": 1607609509247,
     "user": {
      "displayName": "황상욱",
      "photoUrl": "https://lh3.googleusercontent.com/a-/AOh14Gj2kyqkzH6oCAI2EpPjDRb3RvmYTCrcqa-GESSKsw=s64",
      "userId": "07547224988003098326"
     },
     "user_tz": -540
    },
    "id": "EJhAJd_Y_k5-",
    "outputId": "31691301-ae32-4f2b-d1f5-102588deedd5"
   },
   "outputs": [
    {
     "name": "stdout",
     "output_type": "stream",
     "text": [
      "Mounted at /content/drive\n"
     ]
    }
   ],
   "source": [
    "from google.colab import drive\n",
    "drive.mount('/content/drive')"
   ]
  },
  {
   "cell_type": "code",
   "execution_count": 2,
   "metadata": {
    "colab": {
     "base_uri": "https://localhost:8080/"
    },
    "executionInfo": {
     "elapsed": 2158,
     "status": "ok",
     "timestamp": 1607609513757,
     "user": {
      "displayName": "황상욱",
      "photoUrl": "https://lh3.googleusercontent.com/a-/AOh14Gj2kyqkzH6oCAI2EpPjDRb3RvmYTCrcqa-GESSKsw=s64",
      "userId": "07547224988003098326"
     },
     "user_tz": -540
    },
    "id": "ZfSkCIH7_V5l",
    "outputId": "58f49e59-8093-45fe-d5b5-834c5b3db07b"
   },
   "outputs": [
    {
     "name": "stderr",
     "output_type": "stream",
     "text": [
      "/usr/local/lib/python3.6/dist-packages/statsmodels/tools/_testing.py:19: FutureWarning: pandas.util.testing is deprecated. Use the functions in the public API at pandas.testing instead.\n",
      "  import pandas.util.testing as tm\n"
     ]
    }
   ],
   "source": [
    "import os\n",
    "import pandas as pd\n",
    "import numpy as np\n",
    "import time\n",
    "import matplotlib.pyplot as plt\n",
    "%matplotlib inline\n",
    "from tqdm import notebook\n",
    "from pathlib import Path\n",
    "from datetime import datetime, timedelta\n",
    "from scipy.stats import pearsonr\n",
    "from statsmodels.tsa.stattools import adfuller, grangercausalitytests\n",
    "pd.set_option('display.max_columns', None)"
   ]
  },
  {
   "cell_type": "markdown",
   "metadata": {
    "id": "7_lkBmudEITw"
   },
   "source": [
    "- Check nan values"
   ]
  },
  {
   "cell_type": "markdown",
   "metadata": {
    "id": "w0rNiIZ_E2f1"
   },
   "source": [
    "- Just use observation after 3:\n",
    "- Make price & return dataframe"
   ]
  },
  {
   "cell_type": "code",
   "execution_count": 5,
   "metadata": {
    "executionInfo": {
     "elapsed": 942,
     "status": "ok",
     "timestamp": 1607609549295,
     "user": {
      "displayName": "황상욱",
      "photoUrl": "https://lh3.googleusercontent.com/a-/AOh14Gj2kyqkzH6oCAI2EpPjDRb3RvmYTCrcqa-GESSKsw=s64",
      "userId": "07547224988003098326"
     },
     "user_tz": -540
    },
    "id": "eLLyiNy9_xZY"
   },
   "outputs": [],
   "source": [
    "path = '/content/drive/MyDrive/중국 선물/data/'"
   ]
  },
  {
   "cell_type": "code",
   "execution_count": 6,
   "metadata": {
    "executionInfo": {
     "elapsed": 2449,
     "status": "ok",
     "timestamp": 1607609553127,
     "user": {
      "displayName": "황상욱",
      "photoUrl": "https://lh3.googleusercontent.com/a-/AOh14Gj2kyqkzH6oCAI2EpPjDRb3RvmYTCrcqa-GESSKsw=s64",
      "userId": "07547224988003098326"
     },
     "user_tz": -540
    },
    "id": "j12rORe5_chc"
   },
   "outputs": [],
   "source": [
    "group1 = pd.read_csv(path + 'group1_log_dif.csv', index_col =0, parse_dates = True)\n",
    "group1_price = pd.read_csv(path + 'group1_log.csv', index_col =0, parse_dates = True)"
   ]
  },
  {
   "cell_type": "code",
   "execution_count": 7,
   "metadata": {
    "colab": {
     "base_uri": "https://localhost:8080/",
     "height": 233
    },
    "executionInfo": {
     "elapsed": 721,
     "status": "ok",
     "timestamp": 1607609556827,
     "user": {
      "displayName": "황상욱",
      "photoUrl": "https://lh3.googleusercontent.com/a-/AOh14Gj2kyqkzH6oCAI2EpPjDRb3RvmYTCrcqa-GESSKsw=s64",
      "userId": "07547224988003098326"
     },
     "user_tz": -540
    },
    "id": "X_9eyBzd_chc",
    "outputId": "56a3d305-2ebe-42f3-993a-637acb899994"
   },
   "outputs": [
    {
     "data": {
      "text/html": [
       "<div>\n",
       "<style scoped>\n",
       "    .dataframe tbody tr th:only-of-type {\n",
       "        vertical-align: middle;\n",
       "    }\n",
       "\n",
       "    .dataframe tbody tr th {\n",
       "        vertical-align: top;\n",
       "    }\n",
       "\n",
       "    .dataframe thead th {\n",
       "        text-align: right;\n",
       "    }\n",
       "</style>\n",
       "<table border=\"1\" class=\"dataframe\">\n",
       "  <thead>\n",
       "    <tr style=\"text-align: right;\">\n",
       "      <th></th>\n",
       "      <th>KQ.m@DCE.b</th>\n",
       "      <th>KQ.m@DCE.m</th>\n",
       "      <th>KQ.m@CZCE.RM</th>\n",
       "    </tr>\n",
       "    <tr>\n",
       "      <th>datetime</th>\n",
       "      <th></th>\n",
       "      <th></th>\n",
       "      <th></th>\n",
       "    </tr>\n",
       "  </thead>\n",
       "  <tbody>\n",
       "    <tr>\n",
       "      <th>2020-08-03 09:01:00</th>\n",
       "      <td>0.000000</td>\n",
       "      <td>-0.001374</td>\n",
       "      <td>-0.001263</td>\n",
       "    </tr>\n",
       "    <tr>\n",
       "      <th>2020-08-03 09:02:00</th>\n",
       "      <td>0.003254</td>\n",
       "      <td>0.002060</td>\n",
       "      <td>0.002104</td>\n",
       "    </tr>\n",
       "    <tr>\n",
       "      <th>2020-08-03 09:03:00</th>\n",
       "      <td>-0.000591</td>\n",
       "      <td>-0.001029</td>\n",
       "      <td>-0.001262</td>\n",
       "    </tr>\n",
       "    <tr>\n",
       "      <th>2020-08-03 09:04:00</th>\n",
       "      <td>0.001771</td>\n",
       "      <td>0.001029</td>\n",
       "      <td>0.000000</td>\n",
       "    </tr>\n",
       "    <tr>\n",
       "      <th>2020-08-03 09:05:00</th>\n",
       "      <td>-0.002658</td>\n",
       "      <td>-0.001716</td>\n",
       "      <td>-0.001685</td>\n",
       "    </tr>\n",
       "  </tbody>\n",
       "</table>\n",
       "</div>"
      ],
      "text/plain": [
       "                     KQ.m@DCE.b  KQ.m@DCE.m  KQ.m@CZCE.RM\n",
       "datetime                                                 \n",
       "2020-08-03 09:01:00    0.000000   -0.001374     -0.001263\n",
       "2020-08-03 09:02:00    0.003254    0.002060      0.002104\n",
       "2020-08-03 09:03:00   -0.000591   -0.001029     -0.001262\n",
       "2020-08-03 09:04:00    0.001771    0.001029      0.000000\n",
       "2020-08-03 09:05:00   -0.002658   -0.001716     -0.001685"
      ]
     },
     "execution_count": 7,
     "metadata": {
      "tags": []
     },
     "output_type": "execute_result"
    }
   ],
   "source": [
    "group1.head()"
   ]
  },
  {
   "cell_type": "code",
   "execution_count": null,
   "metadata": {
    "colab": {
     "base_uri": "https://localhost:8080/",
     "height": 233
    },
    "executionInfo": {
     "elapsed": 1284,
     "status": "ok",
     "timestamp": 1607241097148,
     "user": {
      "displayName": "­정수연 | 서울 파이낸스경영학과",
      "photoUrl": "",
      "userId": "03470074414199614445"
     },
     "user_tz": -540
    },
    "id": "CNGLCWy2_che",
    "outputId": "4e1fbc32-c96a-4abc-b6e4-fdd97d121d6c"
   },
   "outputs": [
    {
     "data": {
      "text/html": [
       "<div>\n",
       "<style scoped>\n",
       "    .dataframe tbody tr th:only-of-type {\n",
       "        vertical-align: middle;\n",
       "    }\n",
       "\n",
       "    .dataframe tbody tr th {\n",
       "        vertical-align: top;\n",
       "    }\n",
       "\n",
       "    .dataframe thead th {\n",
       "        text-align: right;\n",
       "    }\n",
       "</style>\n",
       "<table border=\"1\" class=\"dataframe\">\n",
       "  <thead>\n",
       "    <tr style=\"text-align: right;\">\n",
       "      <th></th>\n",
       "      <th>KQ.m@DCE.b</th>\n",
       "      <th>KQ.m@DCE.m</th>\n",
       "      <th>KQ.m@CZCE.RM</th>\n",
       "    </tr>\n",
       "    <tr>\n",
       "      <th>datetime</th>\n",
       "      <th></th>\n",
       "      <th></th>\n",
       "      <th></th>\n",
       "    </tr>\n",
       "  </thead>\n",
       "  <tbody>\n",
       "    <tr>\n",
       "      <th>2020-08-03 09:01:00</th>\n",
       "      <td>8.124151</td>\n",
       "      <td>7.975908</td>\n",
       "      <td>7.772332</td>\n",
       "    </tr>\n",
       "    <tr>\n",
       "      <th>2020-08-03 09:02:00</th>\n",
       "      <td>8.127405</td>\n",
       "      <td>7.977968</td>\n",
       "      <td>7.774436</td>\n",
       "    </tr>\n",
       "    <tr>\n",
       "      <th>2020-08-03 09:03:00</th>\n",
       "      <td>8.126814</td>\n",
       "      <td>7.976939</td>\n",
       "      <td>7.773174</td>\n",
       "    </tr>\n",
       "    <tr>\n",
       "      <th>2020-08-03 09:04:00</th>\n",
       "      <td>8.128585</td>\n",
       "      <td>7.977968</td>\n",
       "      <td>7.773174</td>\n",
       "    </tr>\n",
       "    <tr>\n",
       "      <th>2020-08-03 09:05:00</th>\n",
       "      <td>8.125927</td>\n",
       "      <td>7.976252</td>\n",
       "      <td>7.771489</td>\n",
       "    </tr>\n",
       "  </tbody>\n",
       "</table>\n",
       "</div>"
      ],
      "text/plain": [
       "                     KQ.m@DCE.b  KQ.m@DCE.m  KQ.m@CZCE.RM\n",
       "datetime                                                 \n",
       "2020-08-03 09:01:00    8.124151    7.975908      7.772332\n",
       "2020-08-03 09:02:00    8.127405    7.977968      7.774436\n",
       "2020-08-03 09:03:00    8.126814    7.976939      7.773174\n",
       "2020-08-03 09:04:00    8.128585    7.977968      7.773174\n",
       "2020-08-03 09:05:00    8.125927    7.976252      7.771489"
      ]
     },
     "execution_count": 7,
     "metadata": {
      "tags": []
     },
     "output_type": "execute_result"
    }
   ],
   "source": [
    "group1_price.head()"
   ]
  },
  {
   "cell_type": "markdown",
   "metadata": {
    "id": "sHRc-DlBLQXF"
   },
   "source": [
    "## 1.2 Expore price & return"
   ]
  },
  {
   "cell_type": "markdown",
   "metadata": {
    "id": "SM5OIQrMKcX9"
   },
   "source": [
    " - Summary stat"
   ]
  },
  {
   "cell_type": "code",
   "execution_count": 8,
   "metadata": {
    "executionInfo": {
     "elapsed": 887,
     "status": "ok",
     "timestamp": 1607609562448,
     "user": {
      "displayName": "황상욱",
      "photoUrl": "https://lh3.googleusercontent.com/a-/AOh14Gj2kyqkzH6oCAI2EpPjDRb3RvmYTCrcqa-GESSKsw=s64",
      "userId": "07547224988003098326"
     },
     "user_tz": -540
    },
    "id": "IFND6vwG_che"
   },
   "outputs": [],
   "source": [
    "from scipy.stats import skew, kurtosis\n",
    "from statsmodels.stats.stattools import jarque_bera\n",
    "\n",
    "def desc_statics(data):\n",
    "    describe = data.describe()\n",
    "    # 왜도\n",
    "    describe.loc[\"skew\"] = skew(data)\n",
    "\n",
    "    # 첨도\n",
    "    describe.loc[\"kurt\"] = kurtosis(data, fisher = False)\n",
    "\n",
    "    #자크베라\n",
    "    describe.loc[\"j_b\"] = jarque_bera(data)[0]\n",
    "    \n",
    "    return describe"
   ]
  },
  {
   "cell_type": "markdown",
   "metadata": {
    "id": "lCzQQIUu_che"
   },
   "source": [
    "### 선물 기초통계량"
   ]
  },
  {
   "cell_type": "code",
   "execution_count": 9,
   "metadata": {
    "colab": {
     "base_uri": "https://localhost:8080/",
     "height": 386
    },
    "executionInfo": {
     "elapsed": 647,
     "status": "ok",
     "timestamp": 1607609565599,
     "user": {
      "displayName": "황상욱",
      "photoUrl": "https://lh3.googleusercontent.com/a-/AOh14Gj2kyqkzH6oCAI2EpPjDRb3RvmYTCrcqa-GESSKsw=s64",
      "userId": "07547224988003098326"
     },
     "user_tz": -540
    },
    "id": "hh7thGgT_che",
    "outputId": "ea7f30aa-238e-482e-96e5-8126476a62bf"
   },
   "outputs": [
    {
     "data": {
      "text/html": [
       "<div>\n",
       "<style scoped>\n",
       "    .dataframe tbody tr th:only-of-type {\n",
       "        vertical-align: middle;\n",
       "    }\n",
       "\n",
       "    .dataframe tbody tr th {\n",
       "        vertical-align: top;\n",
       "    }\n",
       "\n",
       "    .dataframe thead th {\n",
       "        text-align: right;\n",
       "    }\n",
       "</style>\n",
       "<table border=\"1\" class=\"dataframe\">\n",
       "  <thead>\n",
       "    <tr style=\"text-align: right;\">\n",
       "      <th></th>\n",
       "      <th>KQ.m@DCE.b</th>\n",
       "      <th>KQ.m@DCE.m</th>\n",
       "      <th>KQ.m@CZCE.RM</th>\n",
       "    </tr>\n",
       "  </thead>\n",
       "  <tbody>\n",
       "    <tr>\n",
       "      <th>count</th>\n",
       "      <td>20563.000000</td>\n",
       "      <td>20563.000000</td>\n",
       "      <td>20563.000000</td>\n",
       "    </tr>\n",
       "    <tr>\n",
       "      <th>mean</th>\n",
       "      <td>8.174324</td>\n",
       "      <td>8.023495</td>\n",
       "      <td>7.781329</td>\n",
       "    </tr>\n",
       "    <tr>\n",
       "      <th>std</th>\n",
       "      <td>0.050317</td>\n",
       "      <td>0.047286</td>\n",
       "      <td>0.030473</td>\n",
       "    </tr>\n",
       "    <tr>\n",
       "      <th>min</th>\n",
       "      <td>8.077137</td>\n",
       "      <td>7.949091</td>\n",
       "      <td>7.722235</td>\n",
       "    </tr>\n",
       "    <tr>\n",
       "      <th>25%</th>\n",
       "      <td>8.131237</td>\n",
       "      <td>7.979681</td>\n",
       "      <td>7.756195</td>\n",
       "    </tr>\n",
       "    <tr>\n",
       "      <th>50%</th>\n",
       "      <td>8.173575</td>\n",
       "      <td>8.028455</td>\n",
       "      <td>7.776115</td>\n",
       "    </tr>\n",
       "    <tr>\n",
       "      <th>75%</th>\n",
       "      <td>8.222554</td>\n",
       "      <td>8.070906</td>\n",
       "      <td>7.806696</td>\n",
       "    </tr>\n",
       "    <tr>\n",
       "      <th>max</th>\n",
       "      <td>8.255828</td>\n",
       "      <td>8.106816</td>\n",
       "      <td>7.849324</td>\n",
       "    </tr>\n",
       "    <tr>\n",
       "      <th>skew</th>\n",
       "      <td>-0.096631</td>\n",
       "      <td>0.172186</td>\n",
       "      <td>0.171084</td>\n",
       "    </tr>\n",
       "    <tr>\n",
       "      <th>kurt</th>\n",
       "      <td>1.652976</td>\n",
       "      <td>1.567064</td>\n",
       "      <td>1.879955</td>\n",
       "    </tr>\n",
       "    <tr>\n",
       "      <th>j_b</th>\n",
       "      <td>1586.628452</td>\n",
       "      <td>1860.863606</td>\n",
       "      <td>1175.158226</td>\n",
       "    </tr>\n",
       "  </tbody>\n",
       "</table>\n",
       "</div>"
      ],
      "text/plain": [
       "         KQ.m@DCE.b    KQ.m@DCE.m  KQ.m@CZCE.RM\n",
       "count  20563.000000  20563.000000  20563.000000\n",
       "mean       8.174324      8.023495      7.781329\n",
       "std        0.050317      0.047286      0.030473\n",
       "min        8.077137      7.949091      7.722235\n",
       "25%        8.131237      7.979681      7.756195\n",
       "50%        8.173575      8.028455      7.776115\n",
       "75%        8.222554      8.070906      7.806696\n",
       "max        8.255828      8.106816      7.849324\n",
       "skew      -0.096631      0.172186      0.171084\n",
       "kurt       1.652976      1.567064      1.879955\n",
       "j_b     1586.628452   1860.863606   1175.158226"
      ]
     },
     "execution_count": 9,
     "metadata": {
      "tags": []
     },
     "output_type": "execute_result"
    }
   ],
   "source": [
    "desc_statics(group1_price)"
   ]
  },
  {
   "cell_type": "code",
   "execution_count": 10,
   "metadata": {
    "colab": {
     "base_uri": "https://localhost:8080/",
     "height": 386
    },
    "executionInfo": {
     "elapsed": 616,
     "status": "ok",
     "timestamp": 1607609569057,
     "user": {
      "displayName": "황상욱",
      "photoUrl": "https://lh3.googleusercontent.com/a-/AOh14Gj2kyqkzH6oCAI2EpPjDRb3RvmYTCrcqa-GESSKsw=s64",
      "userId": "07547224988003098326"
     },
     "user_tz": -540
    },
    "id": "vzB8CnEL_che",
    "outputId": "d7f0557e-6bb4-4e9c-9c3a-2b3ae07b0526",
    "scrolled": true
   },
   "outputs": [
    {
     "data": {
      "text/html": [
       "<div>\n",
       "<style scoped>\n",
       "    .dataframe tbody tr th:only-of-type {\n",
       "        vertical-align: middle;\n",
       "    }\n",
       "\n",
       "    .dataframe tbody tr th {\n",
       "        vertical-align: top;\n",
       "    }\n",
       "\n",
       "    .dataframe thead th {\n",
       "        text-align: right;\n",
       "    }\n",
       "</style>\n",
       "<table border=\"1\" class=\"dataframe\">\n",
       "  <thead>\n",
       "    <tr style=\"text-align: right;\">\n",
       "      <th></th>\n",
       "      <th>KQ.m@DCE.b</th>\n",
       "      <th>KQ.m@DCE.m</th>\n",
       "      <th>KQ.m@CZCE.RM</th>\n",
       "    </tr>\n",
       "  </thead>\n",
       "  <tbody>\n",
       "    <tr>\n",
       "      <th>count</th>\n",
       "      <td>2.056300e+04</td>\n",
       "      <td>2.056300e+04</td>\n",
       "      <td>2.056300e+04</td>\n",
       "    </tr>\n",
       "    <tr>\n",
       "      <th>mean</th>\n",
       "      <td>-1.321917e-07</td>\n",
       "      <td>-6.086143e-07</td>\n",
       "      <td>-2.826422e-06</td>\n",
       "    </tr>\n",
       "    <tr>\n",
       "      <th>std</th>\n",
       "      <td>9.525116e-04</td>\n",
       "      <td>5.532074e-04</td>\n",
       "      <td>1.025562e-03</td>\n",
       "    </tr>\n",
       "    <tr>\n",
       "      <th>min</th>\n",
       "      <td>-1.702169e-02</td>\n",
       "      <td>-3.241494e-03</td>\n",
       "      <td>-1.690914e-02</td>\n",
       "    </tr>\n",
       "    <tr>\n",
       "      <th>25%</th>\n",
       "      <td>-3.026176e-04</td>\n",
       "      <td>-3.348401e-04</td>\n",
       "      <td>-4.197272e-04</td>\n",
       "    </tr>\n",
       "    <tr>\n",
       "      <th>50%</th>\n",
       "      <td>0.000000e+00</td>\n",
       "      <td>0.000000e+00</td>\n",
       "      <td>0.000000e+00</td>\n",
       "    </tr>\n",
       "    <tr>\n",
       "      <th>75%</th>\n",
       "      <td>3.028926e-04</td>\n",
       "      <td>3.338341e-04</td>\n",
       "      <td>4.194631e-04</td>\n",
       "    </tr>\n",
       "    <tr>\n",
       "      <th>max</th>\n",
       "      <td>1.679277e-02</td>\n",
       "      <td>6.520750e-03</td>\n",
       "      <td>1.647198e-02</td>\n",
       "    </tr>\n",
       "    <tr>\n",
       "      <th>skew</th>\n",
       "      <td>7.798305e-02</td>\n",
       "      <td>2.579041e-01</td>\n",
       "      <td>-2.420863e-01</td>\n",
       "    </tr>\n",
       "    <tr>\n",
       "      <th>kurt</th>\n",
       "      <td>7.019032e+01</td>\n",
       "      <td>7.034105e+00</td>\n",
       "      <td>9.509650e+01</td>\n",
       "    </tr>\n",
       "    <tr>\n",
       "      <th>j_b</th>\n",
       "      <td>3.868040e+06</td>\n",
       "      <td>1.417139e+04</td>\n",
       "      <td>7.267306e+06</td>\n",
       "    </tr>\n",
       "  </tbody>\n",
       "</table>\n",
       "</div>"
      ],
      "text/plain": [
       "         KQ.m@DCE.b    KQ.m@DCE.m  KQ.m@CZCE.RM\n",
       "count  2.056300e+04  2.056300e+04  2.056300e+04\n",
       "mean  -1.321917e-07 -6.086143e-07 -2.826422e-06\n",
       "std    9.525116e-04  5.532074e-04  1.025562e-03\n",
       "min   -1.702169e-02 -3.241494e-03 -1.690914e-02\n",
       "25%   -3.026176e-04 -3.348401e-04 -4.197272e-04\n",
       "50%    0.000000e+00  0.000000e+00  0.000000e+00\n",
       "75%    3.028926e-04  3.338341e-04  4.194631e-04\n",
       "max    1.679277e-02  6.520750e-03  1.647198e-02\n",
       "skew   7.798305e-02  2.579041e-01 -2.420863e-01\n",
       "kurt   7.019032e+01  7.034105e+00  9.509650e+01\n",
       "j_b    3.868040e+06  1.417139e+04  7.267306e+06"
      ]
     },
     "execution_count": 10,
     "metadata": {
      "tags": []
     },
     "output_type": "execute_result"
    }
   ],
   "source": [
    "desc_statics(group1)"
   ]
  },
  {
   "cell_type": "code",
   "execution_count": 11,
   "metadata": {
    "colab": {
     "base_uri": "https://localhost:8080/",
     "height": 141
    },
    "executionInfo": {
     "elapsed": 636,
     "status": "ok",
     "timestamp": 1607609574905,
     "user": {
      "displayName": "황상욱",
      "photoUrl": "https://lh3.googleusercontent.com/a-/AOh14Gj2kyqkzH6oCAI2EpPjDRb3RvmYTCrcqa-GESSKsw=s64",
      "userId": "07547224988003098326"
     },
     "user_tz": -540
    },
    "id": "gInEcIGeZ05w",
    "outputId": "e240c826-de00-4f69-b7d8-f4cc46bc0762",
    "scrolled": true
   },
   "outputs": [
    {
     "data": {
      "text/html": [
       "<div>\n",
       "<style scoped>\n",
       "    .dataframe tbody tr th:only-of-type {\n",
       "        vertical-align: middle;\n",
       "    }\n",
       "\n",
       "    .dataframe tbody tr th {\n",
       "        vertical-align: top;\n",
       "    }\n",
       "\n",
       "    .dataframe thead th {\n",
       "        text-align: right;\n",
       "    }\n",
       "</style>\n",
       "<table border=\"1\" class=\"dataframe\">\n",
       "  <thead>\n",
       "    <tr style=\"text-align: right;\">\n",
       "      <th></th>\n",
       "      <th>KQ.m@DCE.b</th>\n",
       "      <th>KQ.m@DCE.m</th>\n",
       "      <th>KQ.m@CZCE.RM</th>\n",
       "    </tr>\n",
       "  </thead>\n",
       "  <tbody>\n",
       "    <tr>\n",
       "      <th>KQ.m@DCE.b</th>\n",
       "      <td>1.000000</td>\n",
       "      <td>0.423294</td>\n",
       "      <td>0.233572</td>\n",
       "    </tr>\n",
       "    <tr>\n",
       "      <th>KQ.m@DCE.m</th>\n",
       "      <td>0.423294</td>\n",
       "      <td>1.000000</td>\n",
       "      <td>0.400809</td>\n",
       "    </tr>\n",
       "    <tr>\n",
       "      <th>KQ.m@CZCE.RM</th>\n",
       "      <td>0.233572</td>\n",
       "      <td>0.400809</td>\n",
       "      <td>1.000000</td>\n",
       "    </tr>\n",
       "  </tbody>\n",
       "</table>\n",
       "</div>"
      ],
      "text/plain": [
       "              KQ.m@DCE.b  KQ.m@DCE.m  KQ.m@CZCE.RM\n",
       "KQ.m@DCE.b      1.000000    0.423294      0.233572\n",
       "KQ.m@DCE.m      0.423294    1.000000      0.400809\n",
       "KQ.m@CZCE.RM    0.233572    0.400809      1.000000"
      ]
     },
     "execution_count": 11,
     "metadata": {
      "tags": []
     },
     "output_type": "execute_result"
    }
   ],
   "source": [
    "corr = group1.corr()\n",
    "corr"
   ]
  },
  {
   "cell_type": "markdown",
   "metadata": {
    "id": "OOGNsGqyLjRG"
   },
   "source": [
    "- In this example standard scaler with price\n",
    "- Originally, the exchange rate is applied\n",
    "- Also you can use any scaler with scipy or etc...\n",
    "\n"
   ]
  },
  {
   "cell_type": "markdown",
   "metadata": {
    "id": "JbPDVHp5NO4I"
   },
   "source": [
    "# 2. Analysis\n"
   ]
  },
  {
   "cell_type": "markdown",
   "metadata": {
    "id": "aUQVV2gCLW-z"
   },
   "source": [
    "- predict model, pair trading"
   ]
  },
  {
   "cell_type": "markdown",
   "metadata": {
    "id": "WzM8G6Thm9Kj"
   },
   "source": [
    "![cross-corr.png](data:image/png;base64,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)"
   ]
  },
  {
   "cell_type": "markdown",
   "metadata": {
    "id": "9CUZ-twH_chf"
   },
   "source": [
    "## 2.1 ADF 단위근 검정"
   ]
  },
  {
   "cell_type": "code",
   "execution_count": null,
   "metadata": {
    "colab": {
     "background_save": true
    },
    "id": "-dhTJ-eg_chf"
   },
   "outputs": [],
   "source": [
    "adftest_price = round(group1_price.apply(lambda x: adfuller(x, autolag = 'BIC')[0:2]).T,3)\n",
    "adftest_price.columns = ['T-statics', 'P-values']"
   ]
  },
  {
   "cell_type": "code",
   "execution_count": null,
   "metadata": {
    "colab": {
     "background_save": true
    },
    "id": "0DoXV0v6_chf"
   },
   "outputs": [
    {
     "data": {
      "text/html": [
       "<div>\n",
       "<style scoped>\n",
       "    .dataframe tbody tr th:only-of-type {\n",
       "        vertical-align: middle;\n",
       "    }\n",
       "\n",
       "    .dataframe tbody tr th {\n",
       "        vertical-align: top;\n",
       "    }\n",
       "\n",
       "    .dataframe thead th {\n",
       "        text-align: right;\n",
       "    }\n",
       "</style>\n",
       "<table border=\"1\" class=\"dataframe\">\n",
       "  <thead>\n",
       "    <tr style=\"text-align: right;\">\n",
       "      <th></th>\n",
       "      <th>T-statics</th>\n",
       "      <th>P-values</th>\n",
       "    </tr>\n",
       "  </thead>\n",
       "  <tbody>\n",
       "    <tr>\n",
       "      <th>KQ.m@DCE.b</th>\n",
       "      <td>-1.151</td>\n",
       "      <td>0.694</td>\n",
       "    </tr>\n",
       "    <tr>\n",
       "      <th>KQ.m@DCE.m</th>\n",
       "      <td>-1.022</td>\n",
       "      <td>0.745</td>\n",
       "    </tr>\n",
       "    <tr>\n",
       "      <th>KQ.m@CZCE.RM</th>\n",
       "      <td>-1.466</td>\n",
       "      <td>0.550</td>\n",
       "    </tr>\n",
       "  </tbody>\n",
       "</table>\n",
       "</div>"
      ],
      "text/plain": [
       "              T-statics  P-values\n",
       "KQ.m@DCE.b       -1.151     0.694\n",
       "KQ.m@DCE.m       -1.022     0.745\n",
       "KQ.m@CZCE.RM     -1.466     0.550"
      ]
     },
     "execution_count": null,
     "metadata": {},
     "output_type": "execute_result"
    }
   ],
   "source": [
    "adftest_price"
   ]
  },
  {
   "cell_type": "code",
   "execution_count": null,
   "metadata": {
    "colab": {
     "background_save": true
    },
    "id": "ObYA3I-9_chf"
   },
   "outputs": [],
   "source": [
    "adftest = round(group1.apply(lambda x: adfuller(x, autolag = 'BIC')[0:2]).T,3)\n",
    "adftest.columns = ['T-statics', 'P-values']"
   ]
  },
  {
   "cell_type": "code",
   "execution_count": null,
   "metadata": {
    "colab": {
     "base_uri": "https://localhost:8080/",
     "height": 141
    },
    "executionInfo": {
     "elapsed": 13564,
     "status": "ok",
     "timestamp": 1607241113606,
     "user": {
      "displayName": "­정수연 | 서울 파이낸스경영학과",
      "photoUrl": "",
      "userId": "03470074414199614445"
     },
     "user_tz": -540
    },
    "id": "AAc3jvgD_chf",
    "outputId": "91717273-ccdd-4766-b325-bd6db38dfb90",
    "scrolled": true
   },
   "outputs": [
    {
     "data": {
      "text/html": [
       "<div>\n",
       "<style scoped>\n",
       "    .dataframe tbody tr th:only-of-type {\n",
       "        vertical-align: middle;\n",
       "    }\n",
       "\n",
       "    .dataframe tbody tr th {\n",
       "        vertical-align: top;\n",
       "    }\n",
       "\n",
       "    .dataframe thead th {\n",
       "        text-align: right;\n",
       "    }\n",
       "</style>\n",
       "<table border=\"1\" class=\"dataframe\">\n",
       "  <thead>\n",
       "    <tr style=\"text-align: right;\">\n",
       "      <th></th>\n",
       "      <th>T-statics</th>\n",
       "      <th>P-values</th>\n",
       "    </tr>\n",
       "  </thead>\n",
       "  <tbody>\n",
       "    <tr>\n",
       "      <th>KQ.m@DCE.b</th>\n",
       "      <td>-97.135</td>\n",
       "      <td>0.0</td>\n",
       "    </tr>\n",
       "    <tr>\n",
       "      <th>KQ.m@DCE.m</th>\n",
       "      <td>-110.543</td>\n",
       "      <td>0.0</td>\n",
       "    </tr>\n",
       "    <tr>\n",
       "      <th>KQ.m@CZCE.RM</th>\n",
       "      <td>-22.436</td>\n",
       "      <td>0.0</td>\n",
       "    </tr>\n",
       "  </tbody>\n",
       "</table>\n",
       "</div>"
      ],
      "text/plain": [
       "              T-statics  P-values\n",
       "KQ.m@DCE.b      -97.135       0.0\n",
       "KQ.m@DCE.m     -110.543       0.0\n",
       "KQ.m@CZCE.RM    -22.436       0.0"
      ]
     },
     "execution_count": 15,
     "metadata": {
      "tags": []
     },
     "output_type": "execute_result"
    }
   ],
   "source": [
    "adftest # 모두 안정시계열"
   ]
  },
  {
   "cell_type": "code",
   "execution_count": null,
   "metadata": {
    "colab": {
     "base_uri": "https://localhost:8080/",
     "height": 353
    },
    "executionInfo": {
     "elapsed": 13637,
     "status": "ok",
     "timestamp": 1607241114102,
     "user": {
      "displayName": "­정수연 | 서울 파이낸스경영학과",
      "photoUrl": "",
      "userId": "03470074414199614445"
     },
     "user_tz": -540
    },
    "id": "wqRGN41G_chf",
    "outputId": "24a1538a-fdef-411f-c0e3-0b5bbed48e41"
   },
   "outputs": [
    {
     "data": {
      "text/plain": [
       "<matplotlib.axes._subplots.AxesSubplot at 0x7feec28a8fd0>"
      ]
     },
     "execution_count": 16,
     "metadata": {
      "tags": []
     },
     "output_type": "execute_result"
    },
    {
     "data": {
      "image/png": "[encoded data removed]",
      "text/plain": [
       "<Figure size 720x360 with 1 Axes>"
      ]
     },
     "metadata": {
      "tags": []
     },
     "output_type": "display_data"
    }
   ],
   "source": [
    "group1.cumsum().plot(figsize = (10,5))"
   ]
  },
  {
   "cell_type": "markdown",
   "metadata": {
    "id": "ws26g4HQ_chf"
   },
   "source": [
    "## 2.2 VAR summary"
   ]
  },
  {
   "cell_type": "code",
   "execution_count": null,
   "metadata": {
    "id": "bAKSZRVg_chf"
   },
   "outputs": [],
   "source": [
    "from statsmodels.tsa.api import VAR"
   ]
  },
  {
   "cell_type": "markdown",
   "metadata": {
    "id": "lUQAw1F1_chf"
   },
   "source": [
    "## 2.3 그래인저 인과관계"
   ]
  },
  {
   "cell_type": "code",
   "execution_count": null,
   "metadata": {
    "id": "OAV4-_H9_chf"
   },
   "outputs": [],
   "source": [
    "def granger_causality(rtn):\n",
    "    \n",
    "    model = VAR(rtn)\n",
    "    results = model.fit(maxlags=30, ic='bic')\n",
    "\n",
    "    corr = rtn.corr()\n",
    "    temp_F = pd.DataFrame().reindex_like(corr)\n",
    "    \n",
    "    for i in rtn.columns:\n",
    "        for j in rtn.columns:\n",
    "            stat = results.test_causality(i,j).summary()\n",
    "            if i != j:\n",
    "                f = stat.data[1][0]\n",
    "                p = stat.data[1][2]\n",
    "                temp_F.loc[i,j] = str(np.round(f, 3)) + {p < 0.1 : '(*)', p < 0.05 : '(**)', p < 0.01 : '(***)'}.get(True,'')\n",
    "            \n",
    "            else:\n",
    "                temp_F.loc[i,j] = '-'\n",
    "    print(f\"Model lag order is : {results.k_ar}\")\n",
    "    return temp_F.T"
   ]
  },
  {
   "cell_type": "code",
   "execution_count": null,
   "metadata": {
    "colab": {
     "base_uri": "https://localhost:8080/"
    },
    "executionInfo": {
     "elapsed": 17079,
     "status": "ok",
     "timestamp": 1607241118730,
     "user": {
      "displayName": "­정수연 | 서울 파이낸스경영학과",
      "photoUrl": "",
      "userId": "03470074414199614445"
     },
     "user_tz": -540
    },
    "id": "MJwto24x_chf",
    "outputId": "c12e6f6d-6dec-4f6a-a323-6af56820a26f",
    "scrolled": true
   },
   "outputs": [
    {
     "name": "stderr",
     "output_type": "stream",
     "text": [
      "/usr/local/lib/python3.6/dist-packages/statsmodels/tsa/base/tsa_model.py:219: ValueWarning: A date index has been provided, but it has no associated frequency information and so will be ignored when e.g. forecasting.\n",
      "  ' ignored when e.g. forecasting.', ValueWarning)\n"
     ]
    },
    {
     "name": "stdout",
     "output_type": "stream",
     "text": [
      "Model lag order is : 4\n"
     ]
    }
   ],
   "source": [
    "causal_group1 = granger_causality(group1[['KQ.m@DCE.m','KQ.m@CZCE.RM','KQ.m@DCE.b']])\n",
    "causal_group1.columns = ['콩껍질', '유채씨껍질', '황두2호']\n",
    "causal_group1.index = ['콩껍질', '유채씨껍질', '황두2호']"
   ]
  },
  {
   "cell_type": "code",
   "execution_count": null,
   "metadata": {
    "colab": {
     "base_uri": "https://localhost:8080/",
     "height": 141
    },
    "executionInfo": {
     "elapsed": 16866,
     "status": "ok",
     "timestamp": 1607241118742,
     "user": {
      "displayName": "­정수연 | 서울 파이낸스경영학과",
      "photoUrl": "",
      "userId": "03470074414199614445"
     },
     "user_tz": -540
    },
    "id": "1_O4-1zh_chf",
    "outputId": "c0b45395-9b1c-49c5-e263-34769973dd12"
   },
   "outputs": [
    {
     "data": {
      "text/html": [
       "<div>\n",
       "<style scoped>\n",
       "    .dataframe tbody tr th:only-of-type {\n",
       "        vertical-align: middle;\n",
       "    }\n",
       "\n",
       "    .dataframe tbody tr th {\n",
       "        vertical-align: top;\n",
       "    }\n",
       "\n",
       "    .dataframe thead th {\n",
       "        text-align: right;\n",
       "    }\n",
       "</style>\n",
       "<table border=\"1\" class=\"dataframe\">\n",
       "  <thead>\n",
       "    <tr style=\"text-align: right;\">\n",
       "      <th></th>\n",
       "      <th>콩껍질</th>\n",
       "      <th>유채씨껍질</th>\n",
       "      <th>황두2호</th>\n",
       "    </tr>\n",
       "  </thead>\n",
       "  <tbody>\n",
       "    <tr>\n",
       "      <th>콩껍질</th>\n",
       "      <td>-</td>\n",
       "      <td>115.837(***)</td>\n",
       "      <td>67.261(***)</td>\n",
       "    </tr>\n",
       "    <tr>\n",
       "      <th>유채씨껍질</th>\n",
       "      <td>9.369(***)</td>\n",
       "      <td>-</td>\n",
       "      <td>3.003(**)</td>\n",
       "    </tr>\n",
       "    <tr>\n",
       "      <th>황두2호</th>\n",
       "      <td>14.662(***)</td>\n",
       "      <td>6.483(***)</td>\n",
       "      <td>-</td>\n",
       "    </tr>\n",
       "  </tbody>\n",
       "</table>\n",
       "</div>"
      ],
      "text/plain": [
       "               콩껍질         유채씨껍질         황두2호\n",
       "콩껍질              -  115.837(***)  67.261(***)\n",
       "유채씨껍질   9.369(***)             -    3.003(**)\n",
       "황두2호   14.662(***)    6.483(***)            -"
      ]
     },
     "execution_count": 20,
     "metadata": {
      "tags": []
     },
     "output_type": "execute_result"
    }
   ],
   "source": [
    "causal_group1"
   ]
  },
  {
   "cell_type": "markdown",
   "metadata": {
    "id": "9E693Cuv_chg"
   },
   "source": [
    "## 2.4 충격반응함수"
   ]
  },
  {
   "cell_type": "code",
   "execution_count": null,
   "metadata": {
    "colab": {
     "base_uri": "https://localhost:8080/"
    },
    "executionInfo": {
     "elapsed": 16829,
     "status": "ok",
     "timestamp": 1607241119215,
     "user": {
      "displayName": "­정수연 | 서울 파이낸스경영학과",
      "photoUrl": "",
      "userId": "03470074414199614445"
     },
     "user_tz": -540
    },
    "id": "MzX2SOHb_chg",
    "outputId": "5c54fba8-81b0-4353-8f8d-cd215c3368d2"
   },
   "outputs": [
    {
     "name": "stderr",
     "output_type": "stream",
     "text": [
      "/usr/local/lib/python3.6/dist-packages/statsmodels/tsa/base/tsa_model.py:219: ValueWarning: A date index has been provided, but it has no associated frequency information and so will be ignored when e.g. forecasting.\n",
      "  ' ignored when e.g. forecasting.', ValueWarning)\n"
     ]
    }
   ],
   "source": [
    "model = VAR(group1[['KQ.m@DCE.m','KQ.m@CZCE.RM','KQ.m@DCE.b']])\n",
    "results = model.fit(5, ic = 'bic')\n",
    "irf = results.irf(10)"
   ]
  },
  {
   "cell_type": "code",
   "execution_count": null,
   "metadata": {
    "colab": {
     "base_uri": "https://localhost:8080/"
    },
    "executionInfo": {
     "elapsed": 16565,
     "status": "ok",
     "timestamp": 1607241119217,
     "user": {
      "displayName": "­정수연 | 서울 파이낸스경영학과",
      "photoUrl": "",
      "userId": "03470074414199614445"
     },
     "user_tz": -540
    },
    "id": "JcPsjyZG_chg",
    "outputId": "50d4ab41-2335-44f7-cfec-b28e25fcc253",
    "scrolled": true
   },
   "outputs": [
    {
     "data": {
      "text/plain": [
       "  Summary of Regression Results   \n",
       "==================================\n",
       "Model:                         VAR\n",
       "Method:                        OLS\n",
       "Date:           Sun, 06, Dec, 2020\n",
       "Time:                     07:51:58\n",
       "--------------------------------------------------------------------\n",
       "No. of Equations:         3.00000    BIC:                   -43.4150\n",
       "Nobs:                     20559.0    HQIC:                  -43.4252\n",
       "Log likelihood:           358963.    FPE:                1.37581e-19\n",
       "AIC:                     -43.4301    Det(Omega_mle):     1.37321e-19\n",
       "--------------------------------------------------------------------\n",
       "Results for equation KQ.m@DCE.m\n",
       "==================================================================================\n",
       "                     coefficient       std. error           t-stat            prob\n",
       "----------------------------------------------------------------------------------\n",
       "const                  -0.000001         0.000004           -0.159           0.874\n",
       "L1.KQ.m@DCE.m          -0.169629         0.008493          -19.973           0.000\n",
       "L1.KQ.m@CZCE.RM         0.025660         0.004534            5.659           0.000\n",
       "L1.KQ.m@DCE.b           0.035696         0.004741            7.530           0.000\n",
       "L2.KQ.m@DCE.m          -0.062408         0.008867           -7.039           0.000\n",
       "L2.KQ.m@CZCE.RM         0.016664         0.005012            3.325           0.001\n",
       "L2.KQ.m@DCE.b           0.015263         0.005053            3.021           0.003\n",
       "L3.KQ.m@DCE.m          -0.042896         0.008865           -4.839           0.000\n",
       "L3.KQ.m@CZCE.RM         0.018032         0.005012            3.598           0.000\n",
       "L3.KQ.m@DCE.b           0.012257         0.005051            2.427           0.015\n",
       "L4.KQ.m@DCE.m          -0.023329         0.008467           -2.755           0.006\n",
       "L4.KQ.m@CZCE.RM         0.008939         0.004537            1.970           0.049\n",
       "L4.KQ.m@DCE.b           0.006895         0.004741            1.454           0.146\n",
       "==================================================================================\n",
       "\n",
       "Results for equation KQ.m@CZCE.RM\n",
       "==================================================================================\n",
       "                     coefficient       std. error           t-stat            prob\n",
       "----------------------------------------------------------------------------------\n",
       "const                  -0.000005         0.000007           -0.778           0.436\n",
       "L1.KQ.m@DCE.m           0.287689         0.014636           19.656           0.000\n",
       "L1.KQ.m@CZCE.RM        -0.471926         0.007814          -60.393           0.000\n",
       "L1.KQ.m@DCE.b           0.039744         0.008170            4.865           0.000\n",
       "L2.KQ.m@DCE.m           0.190903         0.015280           12.494           0.000\n",
       "L2.KQ.m@CZCE.RM        -0.281297         0.008637          -32.569           0.000\n",
       "L2.KQ.m@DCE.b           0.024320         0.008707            2.793           0.005\n",
       "L3.KQ.m@DCE.m           0.114384         0.015278            7.487           0.000\n",
       "L3.KQ.m@CZCE.RM        -0.141927         0.008638          -16.431           0.000\n",
       "L3.KQ.m@DCE.b           0.012371         0.008704            1.421           0.155\n",
       "L4.KQ.m@DCE.m           0.076893         0.014591            5.270           0.000\n",
       "L4.KQ.m@CZCE.RM        -0.090836         0.007819          -11.618           0.000\n",
       "L4.KQ.m@DCE.b           0.011653         0.008171            1.426           0.154\n",
       "==================================================================================\n",
       "\n",
       "Results for equation KQ.m@DCE.b\n",
       "==================================================================================\n",
       "                     coefficient       std. error           t-stat            prob\n",
       "----------------------------------------------------------------------------------\n",
       "const                  -0.000000         0.000006           -0.026           0.979\n",
       "L1.KQ.m@DCE.m           0.217334         0.014118           15.394           0.000\n",
       "L1.KQ.m@CZCE.RM         0.026022         0.007538            3.452           0.001\n",
       "L1.KQ.m@DCE.b          -0.346038         0.007880          -43.911           0.000\n",
       "L2.KQ.m@DCE.m           0.130756         0.014739            8.871           0.000\n",
       "L2.KQ.m@CZCE.RM         0.011075         0.008331            1.329           0.184\n",
       "L2.KQ.m@DCE.b          -0.158477         0.008399          -18.868           0.000\n",
       "L3.KQ.m@DCE.m           0.052281         0.014737            3.548           0.000\n",
       "L3.KQ.m@CZCE.RM         0.007896         0.008332            0.948           0.343\n",
       "L3.KQ.m@DCE.b          -0.076974         0.008396           -9.168           0.000\n",
       "L4.KQ.m@DCE.m           0.055642         0.014075            3.953           0.000\n",
       "L4.KQ.m@CZCE.RM         0.002420         0.007542            0.321           0.748\n",
       "L4.KQ.m@DCE.b          -0.040946         0.007882           -5.195           0.000\n",
       "==================================================================================\n",
       "\n",
       "Correlation matrix of residuals\n",
       "                KQ.m@DCE.m  KQ.m@CZCE.RM  KQ.m@DCE.b\n",
       "KQ.m@DCE.m        1.000000      0.452987    0.461257\n",
       "KQ.m@CZCE.RM      0.452987      1.000000    0.274571\n",
       "KQ.m@DCE.b        0.461257      0.274571    1.000000\n",
       "\n"
      ]
     },
     "execution_count": 22,
     "metadata": {
      "tags": []
     },
     "output_type": "execute_result"
    }
   ],
   "source": [
    "results.summary()"
   ]
  },
  {
   "cell_type": "code",
   "execution_count": null,
   "metadata": {
    "colab": {
     "base_uri": "https://localhost:8080/",
     "height": 447
    },
    "executionInfo": {
     "elapsed": 16231,
     "status": "ok",
     "timestamp": 1607241119223,
     "user": {
      "displayName": "­정수연 | 서울 파이낸스경영학과",
      "photoUrl": "",
      "userId": "03470074414199614445"
     },
     "user_tz": -540
    },
    "id": "LYFFzVYR_chg",
    "outputId": "6d3c4cbd-ff4c-4e97-98b6-ad19ea2df737",
    "scrolled": true
   },
   "outputs": [
    {
     "data": {
      "text/html": [
       "<div>\n",
       "<style scoped>\n",
       "    .dataframe tbody tr th:only-of-type {\n",
       "        vertical-align: middle;\n",
       "    }\n",
       "\n",
       "    .dataframe tbody tr th {\n",
       "        vertical-align: top;\n",
       "    }\n",
       "\n",
       "    .dataframe thead th {\n",
       "        text-align: right;\n",
       "    }\n",
       "</style>\n",
       "<table border=\"1\" class=\"dataframe\">\n",
       "  <thead>\n",
       "    <tr style=\"text-align: right;\">\n",
       "      <th></th>\n",
       "      <th>KQ.m@DCE.m</th>\n",
       "      <th>KQ.m@CZCE.RM</th>\n",
       "      <th>KQ.m@DCE.b</th>\n",
       "    </tr>\n",
       "  </thead>\n",
       "  <tbody>\n",
       "    <tr>\n",
       "      <th>const</th>\n",
       "      <td>-1e-06</td>\n",
       "      <td>-5e-06</td>\n",
       "      <td>-0.0</td>\n",
       "    </tr>\n",
       "    <tr>\n",
       "      <th>L1.KQ.m@DCE.m</th>\n",
       "      <td>-0.169629(***)</td>\n",
       "      <td>0.287689(***)</td>\n",
       "      <td>0.217334(***)</td>\n",
       "    </tr>\n",
       "    <tr>\n",
       "      <th>L1.KQ.m@CZCE.RM</th>\n",
       "      <td>0.02566(***)</td>\n",
       "      <td>-0.471926(***)</td>\n",
       "      <td>0.026022(***)</td>\n",
       "    </tr>\n",
       "    <tr>\n",
       "      <th>L1.KQ.m@DCE.b</th>\n",
       "      <td>0.035696(***)</td>\n",
       "      <td>0.039744(***)</td>\n",
       "      <td>-0.346038(***)</td>\n",
       "    </tr>\n",
       "    <tr>\n",
       "      <th>L2.KQ.m@DCE.m</th>\n",
       "      <td>-0.062408(***)</td>\n",
       "      <td>0.190903(***)</td>\n",
       "      <td>0.130756(***)</td>\n",
       "    </tr>\n",
       "    <tr>\n",
       "      <th>L2.KQ.m@CZCE.RM</th>\n",
       "      <td>0.016664(***)</td>\n",
       "      <td>-0.281297(***)</td>\n",
       "      <td>0.011075</td>\n",
       "    </tr>\n",
       "    <tr>\n",
       "      <th>L2.KQ.m@DCE.b</th>\n",
       "      <td>0.015263(***)</td>\n",
       "      <td>0.02432(***)</td>\n",
       "      <td>-0.158477(***)</td>\n",
       "    </tr>\n",
       "    <tr>\n",
       "      <th>L3.KQ.m@DCE.m</th>\n",
       "      <td>-0.042896(***)</td>\n",
       "      <td>0.114384(***)</td>\n",
       "      <td>0.052281(***)</td>\n",
       "    </tr>\n",
       "    <tr>\n",
       "      <th>L3.KQ.m@CZCE.RM</th>\n",
       "      <td>0.018032(***)</td>\n",
       "      <td>-0.141927(***)</td>\n",
       "      <td>0.007896</td>\n",
       "    </tr>\n",
       "    <tr>\n",
       "      <th>L3.KQ.m@DCE.b</th>\n",
       "      <td>0.012257(**)</td>\n",
       "      <td>0.012371</td>\n",
       "      <td>-0.076974(***)</td>\n",
       "    </tr>\n",
       "    <tr>\n",
       "      <th>L4.KQ.m@DCE.m</th>\n",
       "      <td>-0.023329(***)</td>\n",
       "      <td>0.076893(***)</td>\n",
       "      <td>0.055642(***)</td>\n",
       "    </tr>\n",
       "    <tr>\n",
       "      <th>L4.KQ.m@CZCE.RM</th>\n",
       "      <td>0.008939(**)</td>\n",
       "      <td>-0.090836(***)</td>\n",
       "      <td>0.00242</td>\n",
       "    </tr>\n",
       "    <tr>\n",
       "      <th>L4.KQ.m@DCE.b</th>\n",
       "      <td>0.006895</td>\n",
       "      <td>0.011653</td>\n",
       "      <td>-0.040946(***)</td>\n",
       "    </tr>\n",
       "  </tbody>\n",
       "</table>\n",
       "</div>"
      ],
      "text/plain": [
       "                     KQ.m@DCE.m    KQ.m@CZCE.RM      KQ.m@DCE.b\n",
       "const                    -1e-06          -5e-06            -0.0\n",
       "L1.KQ.m@DCE.m    -0.169629(***)   0.287689(***)   0.217334(***)\n",
       "L1.KQ.m@CZCE.RM    0.02566(***)  -0.471926(***)   0.026022(***)\n",
       "L1.KQ.m@DCE.b     0.035696(***)   0.039744(***)  -0.346038(***)\n",
       "L2.KQ.m@DCE.m    -0.062408(***)   0.190903(***)   0.130756(***)\n",
       "L2.KQ.m@CZCE.RM   0.016664(***)  -0.281297(***)        0.011075\n",
       "L2.KQ.m@DCE.b     0.015263(***)    0.02432(***)  -0.158477(***)\n",
       "L3.KQ.m@DCE.m    -0.042896(***)   0.114384(***)   0.052281(***)\n",
       "L3.KQ.m@CZCE.RM   0.018032(***)  -0.141927(***)        0.007896\n",
       "L3.KQ.m@DCE.b      0.012257(**)        0.012371  -0.076974(***)\n",
       "L4.KQ.m@DCE.m    -0.023329(***)   0.076893(***)   0.055642(***)\n",
       "L4.KQ.m@CZCE.RM    0.008939(**)  -0.090836(***)         0.00242\n",
       "L4.KQ.m@DCE.b          0.006895        0.011653  -0.040946(***)"
      ]
     },
     "execution_count": 23,
     "metadata": {
      "tags": []
     },
     "output_type": "execute_result"
    }
   ],
   "source": [
    "round(results.params,6).astype(str) + results.pvalues.applymap(lambda x: {x < 0.1 : '(*)', x < 0.05 : '(**)', x < 0.01 : '(***)'}.get(True,'')) "
   ]
  },
  {
   "cell_type": "code",
   "execution_count": null,
   "metadata": {
    "colab": {
     "base_uri": "https://localhost:8080/",
     "height": 736
    },
    "executionInfo": {
     "elapsed": 17279,
     "status": "ok",
     "timestamp": 1607241120553,
     "user": {
      "displayName": "­정수연 | 서울 파이낸스경영학과",
      "photoUrl": "",
      "userId": "03470074414199614445"
     },
     "user_tz": -540
    },
    "id": "i7AbbRos_chg",
    "outputId": "e6774deb-81e5-4ce6-8805-d587ed8353d1"
   },
   "outputs": [
    {
     "name": "stdout",
     "output_type": "stream",
     "text": [
      "Figure(720x720)\n"
     ]
    },
    {
     "data": {
      "image/png": "[encoded data removed]",
      "text/plain": [
       "<Figure size 720x720 with 3 Axes>"
      ]
     },
     "metadata": {
      "tags": []
     },
     "output_type": "display_data"
    }
   ],
   "source": [
    "print(irf.plot(impulse = 'KQ.m@DCE.m'))"
   ]
  },
  {
   "cell_type": "code",
   "execution_count": null,
   "metadata": {
    "colab": {
     "base_uri": "https://localhost:8080/"
    },
    "executionInfo": {
     "elapsed": 17049,
     "status": "ok",
     "timestamp": 1607241120555,
     "user": {
      "displayName": "­정수연 | 서울 파이낸스경영학과",
      "photoUrl": "",
      "userId": "03470074414199614445"
     },
     "user_tz": -540
    },
    "id": "bVQbX4If_chg",
    "outputId": "63c95b0c-3611-42f4-dfee-9068b17cbeb9",
    "scrolled": true
   },
   "outputs": [
    {
     "name": "stdout",
     "output_type": "stream",
     "text": [
      "FEVD for KQ.m@DCE.m\n",
      "     KQ.m@DCE.m  KQ.m@CZCE.RM  KQ.m@DCE.b\n",
      "0      1.000000      0.000000    0.000000\n",
      "1      0.995419      0.001881    0.002700\n",
      "2      0.995410      0.001882    0.002708\n",
      "3      0.995226      0.002019    0.002755\n",
      "4      0.995217      0.002027    0.002756\n",
      "5      0.995105      0.002112    0.002783\n",
      "6      0.995096      0.002120    0.002784\n",
      "7      0.995096      0.002120    0.002784\n",
      "8      0.995095      0.002120    0.002784\n",
      "9      0.995095      0.002120    0.002784\n",
      "\n",
      "FEVD for KQ.m@CZCE.RM\n",
      "     KQ.m@DCE.m  KQ.m@CZCE.RM  KQ.m@DCE.b\n",
      "0      0.205197      0.794803    0.000000\n",
      "1      0.175114      0.823910    0.000977\n",
      "2      0.174938      0.824084    0.000977\n",
      "3      0.174907      0.824110    0.000983\n",
      "4      0.174883      0.824106    0.001011\n",
      "5      0.174569      0.824389    0.001042\n",
      "6      0.174519      0.824438    0.001044\n",
      "7      0.174515      0.824441    0.001044\n",
      "8      0.174515      0.824441    0.001044\n",
      "9      0.174515      0.824441    0.001044\n",
      "\n",
      "FEVD for KQ.m@DCE.b\n",
      "     KQ.m@DCE.m  KQ.m@CZCE.RM  KQ.m@DCE.b\n",
      "0      0.212758      0.005419    0.781823\n",
      "1      0.194749      0.004956    0.800296\n",
      "2      0.194617      0.004991    0.800393\n",
      "3      0.194689      0.004993    0.800318\n",
      "4      0.194824      0.004992    0.800183\n",
      "5      0.194812      0.004991    0.800197\n",
      "6      0.194808      0.004991    0.800201\n",
      "7      0.194808      0.004991    0.800201\n",
      "8      0.194808      0.004991    0.800201\n",
      "9      0.194808      0.004991    0.800201\n",
      "\n",
      "\n"
     ]
    }
   ],
   "source": [
    "results.fevd(10).summary()"
   ]
  },
  {
   "cell_type": "code",
   "execution_count": null,
   "metadata": {
    "id": "9JEkgrSJABCG"
   },
   "outputs": [],
   "source": []
  }
 ],
 "metadata": {
  "colab": {
   "collapsed_sections": [],
   "name": "group1_statistics.ipynb",
   "toc_visible": true,
   "version": ""
  },
  "kernelspec": {
   "display_name": "Python 3",
   "language": "python",
   "name": "python3"
  },
  "language_info": {
   "codemirror_mode": {
    "name": "ipython",
    "version": 3
   },
   "file_extension": ".py",
   "mimetype": "text/x-python",
   "name": "python",
   "nbconvert_exporter": "python",
   "pygments_lexer": "ipython3",
   "version": "3.8.3"
  }
 },
 "nbformat": 4,
 "nbformat_minor": 1
}
